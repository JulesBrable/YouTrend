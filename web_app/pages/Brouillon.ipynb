{
 "cells": [
  {
   "cell_type": "code",
   "execution_count": 43,
   "metadata": {},
   "outputs": [],
   "source": [
    "import pandas as pd\n",
    "pd.set_option('display.max_columns', None)"
   ]
  },
  {
   "cell_type": "code",
   "execution_count": 7,
   "metadata": {},
   "outputs": [],
   "source": [
    "base = pd.read_csv('pages/donnees/french_youtube_10_12_23.csv')\n",
    "base['nbview'] = base['exactViewNumber'].str.extract('([\\d|,]+)').replace('\\D+','', regex=True).astype('int')\n",
    "base['nblikes'] = base['numberLikes'].replace('\\D+','000', regex=True).astype('int')"
   ]
  },
  {
   "cell_type": "code",
   "execution_count": 8,
   "metadata": {},
   "outputs": [
    {
     "data": {
      "text/plain": [
       "(221, 27)"
      ]
     },
     "execution_count": 8,
     "metadata": {},
     "output_type": "execute_result"
    }
   ],
   "source": [
    "base.shape"
   ]
  },
  {
   "cell_type": "code",
   "execution_count": 44,
   "metadata": {},
   "outputs": [
    {
     "data": {
      "text/html": [
       "<div>\n",
       "<style scoped>\n",
       "    .dataframe tbody tr th:only-of-type {\n",
       "        vertical-align: middle;\n",
       "    }\n",
       "\n",
       "    .dataframe tbody tr th {\n",
       "        vertical-align: top;\n",
       "    }\n",
       "\n",
       "    .dataframe thead th {\n",
       "        text-align: right;\n",
       "    }\n",
       "</style>\n",
       "<table border=\"1\" class=\"dataframe\">\n",
       "  <thead>\n",
       "    <tr style=\"text-align: right;\">\n",
       "      <th></th>\n",
       "      <th>Unnamed: 0</th>\n",
       "      <th>videoTitle</th>\n",
       "      <th>videoId</th>\n",
       "      <th>videoThumbnailUrl</th>\n",
       "      <th>videoDescriptionSnippet</th>\n",
       "      <th>videoRelativePublishedTimeText</th>\n",
       "      <th>videoLength</th>\n",
       "      <th>videoViewCountText</th>\n",
       "      <th>videoCreatorName</th>\n",
       "      <th>videoType</th>\n",
       "      <th>trendingCountry</th>\n",
       "      <th>exactViewNumber</th>\n",
       "      <th>numberLikes</th>\n",
       "      <th>videoDate</th>\n",
       "      <th>creatorSubscriberNumber</th>\n",
       "      <th>videoVerboseDescription</th>\n",
       "      <th>numberOfComments</th>\n",
       "      <th>isCreatorVerified</th>\n",
       "      <th>videoKeywords</th>\n",
       "      <th>videoLengthSeconds</th>\n",
       "      <th>videoIsLiveContent</th>\n",
       "      <th>videoCategory</th>\n",
       "      <th>isFamilySafe</th>\n",
       "      <th>videoExactPublishDate</th>\n",
       "      <th>creatorUrl</th>\n",
       "      <th>nbview</th>\n",
       "      <th>nblikes</th>\n",
       "    </tr>\n",
       "  </thead>\n",
       "  <tbody>\n",
       "    <tr>\n",
       "      <th>0</th>\n",
       "      <td>0</td>\n",
       "      <td>Qui Aura Le Plat Piégé ? (Ft. Inoxtag , Gurky ...</td>\n",
       "      <td>zePFAZMUnbU</td>\n",
       "      <td>https://i.ytimg.com/vi/zePFAZMUnbU/hqdefault.j...</td>\n",
       "      <td>Inoxtag, Gurky et Nico : Qui aura le plat piég...</td>\n",
       "      <td>1 day ago</td>\n",
       "      <td>38:35</td>\n",
       "      <td>1,103,128 views</td>\n",
       "      <td>FastGoodCuisine</td>\n",
       "      <td>Now</td>\n",
       "      <td>FR</td>\n",
       "      <td>1,103,128 views</td>\n",
       "      <td>45K</td>\n",
       "      <td>Dec 8, 2023</td>\n",
       "      <td>4.9M subscribers</td>\n",
       "      <td>Inoxtag, Gurky et Nico : Qui aura le plat piég...</td>\n",
       "      <td>620</td>\n",
       "      <td>True</td>\n",
       "      <td>['Fastgoodcuisine', 'Fastgood', 'Fastfood', 'Q...</td>\n",
       "      <td>2314</td>\n",
       "      <td>False</td>\n",
       "      <td>Howto &amp; Style</td>\n",
       "      <td>True</td>\n",
       "      <td>2023-12-08T09:18:08-08:00</td>\n",
       "      <td>http://www.youtube.com/@FastGoodCuisine</td>\n",
       "      <td>1103128</td>\n",
       "      <td>45000</td>\n",
       "    </tr>\n",
       "    <tr>\n",
       "      <th>1</th>\n",
       "      <td>1</td>\n",
       "      <td>ZOLA x KOBA LA D - ALLER SANS RETOUR</td>\n",
       "      <td>F8lPTlpThEo</td>\n",
       "      <td>https://i.ytimg.com/vi/F8lPTlpThEo/hqdefault.j...</td>\n",
       "      <td>Single  \"Aller Sans Retour\" maintenant disponi...</td>\n",
       "      <td>1 day ago</td>\n",
       "      <td>3:23</td>\n",
       "      <td>522,502 views</td>\n",
       "      <td>Zola</td>\n",
       "      <td>Now</td>\n",
       "      <td>FR</td>\n",
       "      <td>522,502 views</td>\n",
       "      <td>48K</td>\n",
       "      <td>Dec 8, 2023</td>\n",
       "      <td>1.3M subscribers</td>\n",
       "      <td>Single  \"Aller Sans Retour\" maintenant disponi...</td>\n",
       "      <td>1.2K</td>\n",
       "      <td>False</td>\n",
       "      <td>['Zola', 'Koba', 'Koba Ła D', 'Kobalad', 'zola...</td>\n",
       "      <td>203</td>\n",
       "      <td>False</td>\n",
       "      <td>Music</td>\n",
       "      <td>True</td>\n",
       "      <td>2023-12-08T09:01:00-08:00</td>\n",
       "      <td>http://www.youtube.com/@zola5047</td>\n",
       "      <td>522502</td>\n",
       "      <td>48000</td>\n",
       "    </tr>\n",
       "    <tr>\n",
       "      <th>2</th>\n",
       "      <td>2</td>\n",
       "      <td>JuL - La Fusion ft. Alonzo // Clip Officiel //...</td>\n",
       "      <td>WB9wpwPVzyY</td>\n",
       "      <td>https://i.ytimg.com/vi/WB9wpwPVzyY/hqdefault.j...</td>\n",
       "      <td>JuL - Nouvel album '' La route est longue '' d...</td>\n",
       "      <td>1 day ago</td>\n",
       "      <td>3:50</td>\n",
       "      <td>1,085,667 views</td>\n",
       "      <td>DORETDEPLATINE</td>\n",
       "      <td>Now</td>\n",
       "      <td>FR</td>\n",
       "      <td>1,085,667 views</td>\n",
       "      <td>29K</td>\n",
       "      <td>Dec 8, 2023</td>\n",
       "      <td>6.83M subscribers</td>\n",
       "      <td>JuL - Nouvel album '' La route est longue '' d...</td>\n",
       "      <td>796</td>\n",
       "      <td>True</td>\n",
       "      <td>['JuL', 'Alonzo', 'La fusion', 'Clip Officiel'...</td>\n",
       "      <td>229</td>\n",
       "      <td>False</td>\n",
       "      <td>Music</td>\n",
       "      <td>True</td>\n",
       "      <td>2023-12-08T09:00:37-08:00</td>\n",
       "      <td>http://www.youtube.com/@julsaintjean</td>\n",
       "      <td>1085667</td>\n",
       "      <td>29000</td>\n",
       "    </tr>\n",
       "  </tbody>\n",
       "</table>\n",
       "</div>"
      ],
      "text/plain": [
       "   Unnamed: 0                                         videoTitle      videoId  \\\n",
       "0           0  Qui Aura Le Plat Piégé ? (Ft. Inoxtag , Gurky ...  zePFAZMUnbU   \n",
       "1           1               ZOLA x KOBA LA D - ALLER SANS RETOUR  F8lPTlpThEo   \n",
       "2           2  JuL - La Fusion ft. Alonzo // Clip Officiel //...  WB9wpwPVzyY   \n",
       "\n",
       "                                   videoThumbnailUrl  \\\n",
       "0  https://i.ytimg.com/vi/zePFAZMUnbU/hqdefault.j...   \n",
       "1  https://i.ytimg.com/vi/F8lPTlpThEo/hqdefault.j...   \n",
       "2  https://i.ytimg.com/vi/WB9wpwPVzyY/hqdefault.j...   \n",
       "\n",
       "                             videoDescriptionSnippet  \\\n",
       "0  Inoxtag, Gurky et Nico : Qui aura le plat piég...   \n",
       "1  Single  \"Aller Sans Retour\" maintenant disponi...   \n",
       "2  JuL - Nouvel album '' La route est longue '' d...   \n",
       "\n",
       "  videoRelativePublishedTimeText videoLength videoViewCountText  \\\n",
       "0                      1 day ago       38:35    1,103,128 views   \n",
       "1                      1 day ago        3:23      522,502 views   \n",
       "2                      1 day ago        3:50    1,085,667 views   \n",
       "\n",
       "  videoCreatorName videoType trendingCountry  exactViewNumber numberLikes  \\\n",
       "0  FastGoodCuisine       Now              FR  1,103,128 views         45K   \n",
       "1             Zola       Now              FR    522,502 views         48K   \n",
       "2   DORETDEPLATINE       Now              FR  1,085,667 views         29K   \n",
       "\n",
       "     videoDate creatorSubscriberNumber  \\\n",
       "0  Dec 8, 2023        4.9M subscribers   \n",
       "1  Dec 8, 2023        1.3M subscribers   \n",
       "2  Dec 8, 2023       6.83M subscribers   \n",
       "\n",
       "                             videoVerboseDescription numberOfComments  \\\n",
       "0  Inoxtag, Gurky et Nico : Qui aura le plat piég...              620   \n",
       "1  Single  \"Aller Sans Retour\" maintenant disponi...             1.2K   \n",
       "2  JuL - Nouvel album '' La route est longue '' d...              796   \n",
       "\n",
       "   isCreatorVerified                                      videoKeywords  \\\n",
       "0               True  ['Fastgoodcuisine', 'Fastgood', 'Fastfood', 'Q...   \n",
       "1              False  ['Zola', 'Koba', 'Koba Ła D', 'Kobalad', 'zola...   \n",
       "2               True  ['JuL', 'Alonzo', 'La fusion', 'Clip Officiel'...   \n",
       "\n",
       "   videoLengthSeconds  videoIsLiveContent  videoCategory  isFamilySafe  \\\n",
       "0                2314               False  Howto & Style          True   \n",
       "1                 203               False          Music          True   \n",
       "2                 229               False          Music          True   \n",
       "\n",
       "       videoExactPublishDate                               creatorUrl  \\\n",
       "0  2023-12-08T09:18:08-08:00  http://www.youtube.com/@FastGoodCuisine   \n",
       "1  2023-12-08T09:01:00-08:00         http://www.youtube.com/@zola5047   \n",
       "2  2023-12-08T09:00:37-08:00     http://www.youtube.com/@julsaintjean   \n",
       "\n",
       "    nbview  nblikes  \n",
       "0  1103128    45000  \n",
       "1   522502    48000  \n",
       "2  1085667    29000  "
      ]
     },
     "execution_count": 44,
     "metadata": {},
     "output_type": "execute_result"
    }
   ],
   "source": [
    "base.head(3)"
   ]
  },
  {
   "cell_type": "code",
   "execution_count": 45,
   "metadata": {},
   "outputs": [],
   "source": [
    "popular = base.sort_values('nbview', ascending=False).head(5)[['videoTitle', 'videoThumbnailUrl', 'nbview', 'nblikes']]\n",
    "popular['rank']= [k for k in range(popular.shape[0])]"
   ]
  },
  {
   "cell_type": "code",
   "execution_count": 46,
   "metadata": {},
   "outputs": [],
   "source": [
    "popular = popular.set_index('rank')"
   ]
  },
  {
   "cell_type": "code",
   "execution_count": 47,
   "metadata": {},
   "outputs": [
    {
     "data": {
      "text/html": [
       "<div>\n",
       "<style scoped>\n",
       "    .dataframe tbody tr th:only-of-type {\n",
       "        vertical-align: middle;\n",
       "    }\n",
       "\n",
       "    .dataframe tbody tr th {\n",
       "        vertical-align: top;\n",
       "    }\n",
       "\n",
       "    .dataframe thead th {\n",
       "        text-align: right;\n",
       "    }\n",
       "</style>\n",
       "<table border=\"1\" class=\"dataframe\">\n",
       "  <thead>\n",
       "    <tr style=\"text-align: right;\">\n",
       "      <th></th>\n",
       "      <th>videoTitle</th>\n",
       "      <th>videoThumbnailUrl</th>\n",
       "      <th>nbview</th>\n",
       "      <th>nblikes</th>\n",
       "    </tr>\n",
       "    <tr>\n",
       "      <th>rank</th>\n",
       "      <th></th>\n",
       "      <th></th>\n",
       "      <th></th>\n",
       "      <th></th>\n",
       "    </tr>\n",
       "  </thead>\n",
       "  <tbody>\n",
       "    <tr>\n",
       "      <th>0</th>\n",
       "      <td>Grand Theft Auto VI Trailer 1</td>\n",
       "      <td>https://i.ytimg.com/vi/QdBZY2fkU-0/hqdefault.j...</td>\n",
       "      <td>137361172</td>\n",
       "      <td>10000</td>\n",
       "    </tr>\n",
       "    <tr>\n",
       "      <th>1</th>\n",
       "      <td>$10,000 Every Day You Survive In A Grocery Store</td>\n",
       "      <td>https://i.ytimg.com/vi/tnTPaLOaHz8/hqdefault.j...</td>\n",
       "      <td>102249150</td>\n",
       "      <td>30008000</td>\n",
       "    </tr>\n",
       "    <tr>\n",
       "      <th>2</th>\n",
       "      <td>ANIMAL (OFFICIAL TRAILER): Ranbir Kapoor | Ras...</td>\n",
       "      <td>https://i.ytimg.com/vi/8FkLRUJj-o0/hqdefault.j...</td>\n",
       "      <td>95439361</td>\n",
       "      <td>10007000</td>\n",
       "    </tr>\n",
       "    <tr>\n",
       "      <th>3</th>\n",
       "      <td>Salaar Hindi Trailer | Prabhas | Prashanth Nee...</td>\n",
       "      <td>https://i.ytimg.com/vi/HihakYi5M2I/hqdefault.j...</td>\n",
       "      <td>68566455</td>\n",
       "      <td>10002000</td>\n",
       "    </tr>\n",
       "    <tr>\n",
       "      <th>4</th>\n",
       "      <td>ATEEZ(에이티즈) - '미친 폼 (Crazy Form)' Official MV</td>\n",
       "      <td>https://i.ytimg.com/vi/9t57C7NcjWo/hqdefault.j...</td>\n",
       "      <td>38153919</td>\n",
       "      <td>492000</td>\n",
       "    </tr>\n",
       "  </tbody>\n",
       "</table>\n",
       "</div>"
      ],
      "text/plain": [
       "                                             videoTitle  \\\n",
       "rank                                                      \n",
       "0                         Grand Theft Auto VI Trailer 1   \n",
       "1      $10,000 Every Day You Survive In A Grocery Store   \n",
       "2     ANIMAL (OFFICIAL TRAILER): Ranbir Kapoor | Ras...   \n",
       "3     Salaar Hindi Trailer | Prabhas | Prashanth Nee...   \n",
       "4         ATEEZ(에이티즈) - '미친 폼 (Crazy Form)' Official MV   \n",
       "\n",
       "                                      videoThumbnailUrl     nbview   nblikes  \n",
       "rank                                                                          \n",
       "0     https://i.ytimg.com/vi/QdBZY2fkU-0/hqdefault.j...  137361172     10000  \n",
       "1     https://i.ytimg.com/vi/tnTPaLOaHz8/hqdefault.j...  102249150  30008000  \n",
       "2     https://i.ytimg.com/vi/8FkLRUJj-o0/hqdefault.j...   95439361  10007000  \n",
       "3     https://i.ytimg.com/vi/HihakYi5M2I/hqdefault.j...   68566455  10002000  \n",
       "4     https://i.ytimg.com/vi/9t57C7NcjWo/hqdefault.j...   38153919    492000  "
      ]
     },
     "execution_count": 47,
     "metadata": {},
     "output_type": "execute_result"
    }
   ],
   "source": [
    "popular"
   ]
  },
  {
   "cell_type": "code",
   "execution_count": 39,
   "metadata": {},
   "outputs": [
    {
     "data": {
      "text/plain": [
       "'Se faire ban pour un speedrun ? #shorts #minecraft'"
      ]
     },
     "execution_count": 39,
     "metadata": {},
     "output_type": "execute_result"
    }
   ],
   "source": [
    "popular.loc[0,'videoTitle']"
   ]
  },
  {
   "cell_type": "code",
   "execution_count": 74,
   "metadata": {},
   "outputs": [],
   "source": [
    "category = base.groupby(by='videoCategory', as_index=False).size()"
   ]
  },
  {
   "cell_type": "code",
   "execution_count": 80,
   "metadata": {},
   "outputs": [
    {
     "data": {
      "text/html": [
       "<div>\n",
       "<style scoped>\n",
       "    .dataframe tbody tr th:only-of-type {\n",
       "        vertical-align: middle;\n",
       "    }\n",
       "\n",
       "    .dataframe tbody tr th {\n",
       "        vertical-align: top;\n",
       "    }\n",
       "\n",
       "    .dataframe thead th {\n",
       "        text-align: right;\n",
       "    }\n",
       "</style>\n",
       "<table border=\"1\" class=\"dataframe\">\n",
       "  <thead>\n",
       "    <tr style=\"text-align: right;\">\n",
       "      <th></th>\n",
       "      <th>videoCategory</th>\n",
       "      <th>size</th>\n",
       "    </tr>\n",
       "  </thead>\n",
       "  <tbody>\n",
       "    <tr>\n",
       "      <th>0</th>\n",
       "      <td>Autos &amp; Vehicles</td>\n",
       "      <td>5</td>\n",
       "    </tr>\n",
       "    <tr>\n",
       "      <th>1</th>\n",
       "      <td>Comedy</td>\n",
       "      <td>15</td>\n",
       "    </tr>\n",
       "    <tr>\n",
       "      <th>2</th>\n",
       "      <td>Education</td>\n",
       "      <td>2</td>\n",
       "    </tr>\n",
       "    <tr>\n",
       "      <th>3</th>\n",
       "      <td>Entertainment</td>\n",
       "      <td>57</td>\n",
       "    </tr>\n",
       "    <tr>\n",
       "      <th>4</th>\n",
       "      <td>Film &amp; Animation</td>\n",
       "      <td>10</td>\n",
       "    </tr>\n",
       "    <tr>\n",
       "      <th>5</th>\n",
       "      <td>Gaming</td>\n",
       "      <td>63</td>\n",
       "    </tr>\n",
       "    <tr>\n",
       "      <th>6</th>\n",
       "      <td>Howto &amp; Style</td>\n",
       "      <td>2</td>\n",
       "    </tr>\n",
       "    <tr>\n",
       "      <th>7</th>\n",
       "      <td>Music</td>\n",
       "      <td>53</td>\n",
       "    </tr>\n",
       "    <tr>\n",
       "      <th>8</th>\n",
       "      <td>News &amp; Politics</td>\n",
       "      <td>3</td>\n",
       "    </tr>\n",
       "    <tr>\n",
       "      <th>9</th>\n",
       "      <td>People &amp; Blogs</td>\n",
       "      <td>6</td>\n",
       "    </tr>\n",
       "    <tr>\n",
       "      <th>10</th>\n",
       "      <td>Science &amp; Technology</td>\n",
       "      <td>1</td>\n",
       "    </tr>\n",
       "    <tr>\n",
       "      <th>11</th>\n",
       "      <td>Sports</td>\n",
       "      <td>4</td>\n",
       "    </tr>\n",
       "  </tbody>\n",
       "</table>\n",
       "</div>"
      ],
      "text/plain": [
       "           videoCategory  size\n",
       "0       Autos & Vehicles     5\n",
       "1                 Comedy    15\n",
       "2              Education     2\n",
       "3          Entertainment    57\n",
       "4       Film & Animation    10\n",
       "5                 Gaming    63\n",
       "6          Howto & Style     2\n",
       "7                  Music    53\n",
       "8        News & Politics     3\n",
       "9         People & Blogs     6\n",
       "10  Science & Technology     1\n",
       "11                Sports     4"
      ]
     },
     "execution_count": 80,
     "metadata": {},
     "output_type": "execute_result"
    }
   ],
   "source": [
    "category"
   ]
  },
  {
   "cell_type": "code",
   "execution_count": 77,
   "metadata": {},
   "outputs": [],
   "source": [
    "df = category.set_index('videoCategory')\n",
    "df = df.loc[['Education'],:].reset_index()"
   ]
  },
  {
   "cell_type": "code",
   "execution_count": 78,
   "metadata": {},
   "outputs": [
    {
     "data": {
      "application/vnd.plotly.v1+json": {
       "config": {
        "plotlyServerURL": "https://plot.ly"
       },
       "data": [
        {
         "alignmentgroup": "True",
         "hovertemplate": "videoCategory=%{x}<br>size=%{y}<extra></extra>",
         "legendgroup": "",
         "marker": {
          "color": "#6D071A",
          "pattern": {
           "shape": ""
          }
         },
         "name": "",
         "offsetgroup": "",
         "orientation": "v",
         "showlegend": false,
         "textposition": "auto",
         "type": "bar",
         "x": [
          "Education"
         ],
         "xaxis": "x",
         "y": [
          2
         ],
         "yaxis": "y"
        }
       ],
       "layout": {
        "barmode": "relative",
        "legend": {
         "tracegroupgap": 0
        },
        "margin": {
         "t": 60
        },
        "template": {
         "data": {
          "bar": [
           {
            "error_x": {
             "color": "#2a3f5f"
            },
            "error_y": {
             "color": "#2a3f5f"
            },
            "marker": {
             "line": {
              "color": "#E5ECF6",
              "width": 0.5
             },
             "pattern": {
              "fillmode": "overlay",
              "size": 10,
              "solidity": 0.2
             }
            },
            "type": "bar"
           }
          ],
          "barpolar": [
           {
            "marker": {
             "line": {
              "color": "#E5ECF6",
              "width": 0.5
             },
             "pattern": {
              "fillmode": "overlay",
              "size": 10,
              "solidity": 0.2
             }
            },
            "type": "barpolar"
           }
          ],
          "carpet": [
           {
            "aaxis": {
             "endlinecolor": "#2a3f5f",
             "gridcolor": "white",
             "linecolor": "white",
             "minorgridcolor": "white",
             "startlinecolor": "#2a3f5f"
            },
            "baxis": {
             "endlinecolor": "#2a3f5f",
             "gridcolor": "white",
             "linecolor": "white",
             "minorgridcolor": "white",
             "startlinecolor": "#2a3f5f"
            },
            "type": "carpet"
           }
          ],
          "choropleth": [
           {
            "colorbar": {
             "outlinewidth": 0,
             "ticks": ""
            },
            "type": "choropleth"
           }
          ],
          "contour": [
           {
            "colorbar": {
             "outlinewidth": 0,
             "ticks": ""
            },
            "colorscale": [
             [
              0,
              "#0d0887"
             ],
             [
              0.1111111111111111,
              "#46039f"
             ],
             [
              0.2222222222222222,
              "#7201a8"
             ],
             [
              0.3333333333333333,
              "#9c179e"
             ],
             [
              0.4444444444444444,
              "#bd3786"
             ],
             [
              0.5555555555555556,
              "#d8576b"
             ],
             [
              0.6666666666666666,
              "#ed7953"
             ],
             [
              0.7777777777777778,
              "#fb9f3a"
             ],
             [
              0.8888888888888888,
              "#fdca26"
             ],
             [
              1,
              "#f0f921"
             ]
            ],
            "type": "contour"
           }
          ],
          "contourcarpet": [
           {
            "colorbar": {
             "outlinewidth": 0,
             "ticks": ""
            },
            "type": "contourcarpet"
           }
          ],
          "heatmap": [
           {
            "colorbar": {
             "outlinewidth": 0,
             "ticks": ""
            },
            "colorscale": [
             [
              0,
              "#0d0887"
             ],
             [
              0.1111111111111111,
              "#46039f"
             ],
             [
              0.2222222222222222,
              "#7201a8"
             ],
             [
              0.3333333333333333,
              "#9c179e"
             ],
             [
              0.4444444444444444,
              "#bd3786"
             ],
             [
              0.5555555555555556,
              "#d8576b"
             ],
             [
              0.6666666666666666,
              "#ed7953"
             ],
             [
              0.7777777777777778,
              "#fb9f3a"
             ],
             [
              0.8888888888888888,
              "#fdca26"
             ],
             [
              1,
              "#f0f921"
             ]
            ],
            "type": "heatmap"
           }
          ],
          "heatmapgl": [
           {
            "colorbar": {
             "outlinewidth": 0,
             "ticks": ""
            },
            "colorscale": [
             [
              0,
              "#0d0887"
             ],
             [
              0.1111111111111111,
              "#46039f"
             ],
             [
              0.2222222222222222,
              "#7201a8"
             ],
             [
              0.3333333333333333,
              "#9c179e"
             ],
             [
              0.4444444444444444,
              "#bd3786"
             ],
             [
              0.5555555555555556,
              "#d8576b"
             ],
             [
              0.6666666666666666,
              "#ed7953"
             ],
             [
              0.7777777777777778,
              "#fb9f3a"
             ],
             [
              0.8888888888888888,
              "#fdca26"
             ],
             [
              1,
              "#f0f921"
             ]
            ],
            "type": "heatmapgl"
           }
          ],
          "histogram": [
           {
            "marker": {
             "pattern": {
              "fillmode": "overlay",
              "size": 10,
              "solidity": 0.2
             }
            },
            "type": "histogram"
           }
          ],
          "histogram2d": [
           {
            "colorbar": {
             "outlinewidth": 0,
             "ticks": ""
            },
            "colorscale": [
             [
              0,
              "#0d0887"
             ],
             [
              0.1111111111111111,
              "#46039f"
             ],
             [
              0.2222222222222222,
              "#7201a8"
             ],
             [
              0.3333333333333333,
              "#9c179e"
             ],
             [
              0.4444444444444444,
              "#bd3786"
             ],
             [
              0.5555555555555556,
              "#d8576b"
             ],
             [
              0.6666666666666666,
              "#ed7953"
             ],
             [
              0.7777777777777778,
              "#fb9f3a"
             ],
             [
              0.8888888888888888,
              "#fdca26"
             ],
             [
              1,
              "#f0f921"
             ]
            ],
            "type": "histogram2d"
           }
          ],
          "histogram2dcontour": [
           {
            "colorbar": {
             "outlinewidth": 0,
             "ticks": ""
            },
            "colorscale": [
             [
              0,
              "#0d0887"
             ],
             [
              0.1111111111111111,
              "#46039f"
             ],
             [
              0.2222222222222222,
              "#7201a8"
             ],
             [
              0.3333333333333333,
              "#9c179e"
             ],
             [
              0.4444444444444444,
              "#bd3786"
             ],
             [
              0.5555555555555556,
              "#d8576b"
             ],
             [
              0.6666666666666666,
              "#ed7953"
             ],
             [
              0.7777777777777778,
              "#fb9f3a"
             ],
             [
              0.8888888888888888,
              "#fdca26"
             ],
             [
              1,
              "#f0f921"
             ]
            ],
            "type": "histogram2dcontour"
           }
          ],
          "mesh3d": [
           {
            "colorbar": {
             "outlinewidth": 0,
             "ticks": ""
            },
            "type": "mesh3d"
           }
          ],
          "parcoords": [
           {
            "line": {
             "colorbar": {
              "outlinewidth": 0,
              "ticks": ""
             }
            },
            "type": "parcoords"
           }
          ],
          "pie": [
           {
            "automargin": true,
            "type": "pie"
           }
          ],
          "scatter": [
           {
            "fillpattern": {
             "fillmode": "overlay",
             "size": 10,
             "solidity": 0.2
            },
            "type": "scatter"
           }
          ],
          "scatter3d": [
           {
            "line": {
             "colorbar": {
              "outlinewidth": 0,
              "ticks": ""
             }
            },
            "marker": {
             "colorbar": {
              "outlinewidth": 0,
              "ticks": ""
             }
            },
            "type": "scatter3d"
           }
          ],
          "scattercarpet": [
           {
            "marker": {
             "colorbar": {
              "outlinewidth": 0,
              "ticks": ""
             }
            },
            "type": "scattercarpet"
           }
          ],
          "scattergeo": [
           {
            "marker": {
             "colorbar": {
              "outlinewidth": 0,
              "ticks": ""
             }
            },
            "type": "scattergeo"
           }
          ],
          "scattergl": [
           {
            "marker": {
             "colorbar": {
              "outlinewidth": 0,
              "ticks": ""
             }
            },
            "type": "scattergl"
           }
          ],
          "scattermapbox": [
           {
            "marker": {
             "colorbar": {
              "outlinewidth": 0,
              "ticks": ""
             }
            },
            "type": "scattermapbox"
           }
          ],
          "scatterpolar": [
           {
            "marker": {
             "colorbar": {
              "outlinewidth": 0,
              "ticks": ""
             }
            },
            "type": "scatterpolar"
           }
          ],
          "scatterpolargl": [
           {
            "marker": {
             "colorbar": {
              "outlinewidth": 0,
              "ticks": ""
             }
            },
            "type": "scatterpolargl"
           }
          ],
          "scatterternary": [
           {
            "marker": {
             "colorbar": {
              "outlinewidth": 0,
              "ticks": ""
             }
            },
            "type": "scatterternary"
           }
          ],
          "surface": [
           {
            "colorbar": {
             "outlinewidth": 0,
             "ticks": ""
            },
            "colorscale": [
             [
              0,
              "#0d0887"
             ],
             [
              0.1111111111111111,
              "#46039f"
             ],
             [
              0.2222222222222222,
              "#7201a8"
             ],
             [
              0.3333333333333333,
              "#9c179e"
             ],
             [
              0.4444444444444444,
              "#bd3786"
             ],
             [
              0.5555555555555556,
              "#d8576b"
             ],
             [
              0.6666666666666666,
              "#ed7953"
             ],
             [
              0.7777777777777778,
              "#fb9f3a"
             ],
             [
              0.8888888888888888,
              "#fdca26"
             ],
             [
              1,
              "#f0f921"
             ]
            ],
            "type": "surface"
           }
          ],
          "table": [
           {
            "cells": {
             "fill": {
              "color": "#EBF0F8"
             },
             "line": {
              "color": "white"
             }
            },
            "header": {
             "fill": {
              "color": "#C8D4E3"
             },
             "line": {
              "color": "white"
             }
            },
            "type": "table"
           }
          ]
         },
         "layout": {
          "annotationdefaults": {
           "arrowcolor": "#2a3f5f",
           "arrowhead": 0,
           "arrowwidth": 1
          },
          "autotypenumbers": "strict",
          "coloraxis": {
           "colorbar": {
            "outlinewidth": 0,
            "ticks": ""
           }
          },
          "colorscale": {
           "diverging": [
            [
             0,
             "#8e0152"
            ],
            [
             0.1,
             "#c51b7d"
            ],
            [
             0.2,
             "#de77ae"
            ],
            [
             0.3,
             "#f1b6da"
            ],
            [
             0.4,
             "#fde0ef"
            ],
            [
             0.5,
             "#f7f7f7"
            ],
            [
             0.6,
             "#e6f5d0"
            ],
            [
             0.7,
             "#b8e186"
            ],
            [
             0.8,
             "#7fbc41"
            ],
            [
             0.9,
             "#4d9221"
            ],
            [
             1,
             "#276419"
            ]
           ],
           "sequential": [
            [
             0,
             "#0d0887"
            ],
            [
             0.1111111111111111,
             "#46039f"
            ],
            [
             0.2222222222222222,
             "#7201a8"
            ],
            [
             0.3333333333333333,
             "#9c179e"
            ],
            [
             0.4444444444444444,
             "#bd3786"
            ],
            [
             0.5555555555555556,
             "#d8576b"
            ],
            [
             0.6666666666666666,
             "#ed7953"
            ],
            [
             0.7777777777777778,
             "#fb9f3a"
            ],
            [
             0.8888888888888888,
             "#fdca26"
            ],
            [
             1,
             "#f0f921"
            ]
           ],
           "sequentialminus": [
            [
             0,
             "#0d0887"
            ],
            [
             0.1111111111111111,
             "#46039f"
            ],
            [
             0.2222222222222222,
             "#7201a8"
            ],
            [
             0.3333333333333333,
             "#9c179e"
            ],
            [
             0.4444444444444444,
             "#bd3786"
            ],
            [
             0.5555555555555556,
             "#d8576b"
            ],
            [
             0.6666666666666666,
             "#ed7953"
            ],
            [
             0.7777777777777778,
             "#fb9f3a"
            ],
            [
             0.8888888888888888,
             "#fdca26"
            ],
            [
             1,
             "#f0f921"
            ]
           ]
          },
          "colorway": [
           "#636efa",
           "#EF553B",
           "#00cc96",
           "#ab63fa",
           "#FFA15A",
           "#19d3f3",
           "#FF6692",
           "#B6E880",
           "#FF97FF",
           "#FECB52"
          ],
          "font": {
           "color": "#2a3f5f"
          },
          "geo": {
           "bgcolor": "white",
           "lakecolor": "white",
           "landcolor": "#E5ECF6",
           "showlakes": true,
           "showland": true,
           "subunitcolor": "white"
          },
          "hoverlabel": {
           "align": "left"
          },
          "hovermode": "closest",
          "mapbox": {
           "style": "light"
          },
          "paper_bgcolor": "white",
          "plot_bgcolor": "#E5ECF6",
          "polar": {
           "angularaxis": {
            "gridcolor": "white",
            "linecolor": "white",
            "ticks": ""
           },
           "bgcolor": "#E5ECF6",
           "radialaxis": {
            "gridcolor": "white",
            "linecolor": "white",
            "ticks": ""
           }
          },
          "scene": {
           "xaxis": {
            "backgroundcolor": "#E5ECF6",
            "gridcolor": "white",
            "gridwidth": 2,
            "linecolor": "white",
            "showbackground": true,
            "ticks": "",
            "zerolinecolor": "white"
           },
           "yaxis": {
            "backgroundcolor": "#E5ECF6",
            "gridcolor": "white",
            "gridwidth": 2,
            "linecolor": "white",
            "showbackground": true,
            "ticks": "",
            "zerolinecolor": "white"
           },
           "zaxis": {
            "backgroundcolor": "#E5ECF6",
            "gridcolor": "white",
            "gridwidth": 2,
            "linecolor": "white",
            "showbackground": true,
            "ticks": "",
            "zerolinecolor": "white"
           }
          },
          "shapedefaults": {
           "line": {
            "color": "#2a3f5f"
           }
          },
          "ternary": {
           "aaxis": {
            "gridcolor": "white",
            "linecolor": "white",
            "ticks": ""
           },
           "baxis": {
            "gridcolor": "white",
            "linecolor": "white",
            "ticks": ""
           },
           "bgcolor": "#E5ECF6",
           "caxis": {
            "gridcolor": "white",
            "linecolor": "white",
            "ticks": ""
           }
          },
          "title": {
           "x": 0.05
          },
          "xaxis": {
           "automargin": true,
           "gridcolor": "white",
           "linecolor": "white",
           "ticks": "",
           "title": {
            "standoff": 15
           },
           "zerolinecolor": "white",
           "zerolinewidth": 2
          },
          "yaxis": {
           "automargin": true,
           "gridcolor": "white",
           "linecolor": "white",
           "ticks": "",
           "title": {
            "standoff": 15
           },
           "zerolinecolor": "white",
           "zerolinewidth": 2
          }
         }
        },
        "xaxis": {
         "anchor": "y",
         "domain": [
          0,
          1
         ],
         "title": {
          "text": "videoCategory"
         }
        },
        "yaxis": {
         "anchor": "x",
         "domain": [
          0,
          1
         ],
         "title": {
          "text": "size"
         }
        }
       }
      }
     },
     "metadata": {},
     "output_type": "display_data"
    }
   ],
   "source": [
    "import plotly.express as px\n",
    "\n",
    "fig = px.bar(\n",
    "    df,\n",
    "    x='videoCategory', y='size',\n",
    "    color_discrete_sequence=['#6D071A']\n",
    ")\n",
    "fig"
   ]
  },
  {
   "cell_type": "code",
   "execution_count": 79,
   "metadata": {},
   "outputs": [
    {
     "data": {
      "text/html": [
       "<div>\n",
       "<style scoped>\n",
       "    .dataframe tbody tr th:only-of-type {\n",
       "        vertical-align: middle;\n",
       "    }\n",
       "\n",
       "    .dataframe tbody tr th {\n",
       "        vertical-align: top;\n",
       "    }\n",
       "\n",
       "    .dataframe thead th {\n",
       "        text-align: right;\n",
       "    }\n",
       "</style>\n",
       "<table border=\"1\" class=\"dataframe\">\n",
       "  <thead>\n",
       "    <tr style=\"text-align: right;\">\n",
       "      <th></th>\n",
       "      <th>videoCategory</th>\n",
       "      <th>size</th>\n",
       "    </tr>\n",
       "  </thead>\n",
       "  <tbody>\n",
       "    <tr>\n",
       "      <th>0</th>\n",
       "      <td>Autos &amp; Vehicles</td>\n",
       "      <td>5</td>\n",
       "    </tr>\n",
       "    <tr>\n",
       "      <th>1</th>\n",
       "      <td>Comedy</td>\n",
       "      <td>15</td>\n",
       "    </tr>\n",
       "    <tr>\n",
       "      <th>2</th>\n",
       "      <td>Education</td>\n",
       "      <td>2</td>\n",
       "    </tr>\n",
       "    <tr>\n",
       "      <th>3</th>\n",
       "      <td>Entertainment</td>\n",
       "      <td>57</td>\n",
       "    </tr>\n",
       "    <tr>\n",
       "      <th>4</th>\n",
       "      <td>Film &amp; Animation</td>\n",
       "      <td>10</td>\n",
       "    </tr>\n",
       "    <tr>\n",
       "      <th>5</th>\n",
       "      <td>Gaming</td>\n",
       "      <td>63</td>\n",
       "    </tr>\n",
       "    <tr>\n",
       "      <th>6</th>\n",
       "      <td>Howto &amp; Style</td>\n",
       "      <td>2</td>\n",
       "    </tr>\n",
       "    <tr>\n",
       "      <th>7</th>\n",
       "      <td>Music</td>\n",
       "      <td>53</td>\n",
       "    </tr>\n",
       "    <tr>\n",
       "      <th>8</th>\n",
       "      <td>News &amp; Politics</td>\n",
       "      <td>3</td>\n",
       "    </tr>\n",
       "    <tr>\n",
       "      <th>9</th>\n",
       "      <td>People &amp; Blogs</td>\n",
       "      <td>6</td>\n",
       "    </tr>\n",
       "    <tr>\n",
       "      <th>10</th>\n",
       "      <td>Science &amp; Technology</td>\n",
       "      <td>1</td>\n",
       "    </tr>\n",
       "    <tr>\n",
       "      <th>11</th>\n",
       "      <td>Sports</td>\n",
       "      <td>4</td>\n",
       "    </tr>\n",
       "  </tbody>\n",
       "</table>\n",
       "</div>"
      ],
      "text/plain": [
       "           videoCategory  size\n",
       "0       Autos & Vehicles     5\n",
       "1                 Comedy    15\n",
       "2              Education     2\n",
       "3          Entertainment    57\n",
       "4       Film & Animation    10\n",
       "5                 Gaming    63\n",
       "6          Howto & Style     2\n",
       "7                  Music    53\n",
       "8        News & Politics     3\n",
       "9         People & Blogs     6\n",
       "10  Science & Technology     1\n",
       "11                Sports     4"
      ]
     },
     "execution_count": 79,
     "metadata": {},
     "output_type": "execute_result"
    }
   ],
   "source": [
    "category"
   ]
  },
  {
   "cell_type": "code",
   "execution_count": 32,
   "metadata": {},
   "outputs": [],
   "source": [
    "import re\n",
    "link = 'https://www.youtube.com/watch?v=3cYxeaerGoc'\n",
    "to_match1 = \"https://www.youtube.com/watch\\?v=\"\n",
    "check = re.search(to_match1, link)[0] == None"
   ]
  },
  {
   "cell_type": "code",
   "execution_count": 12,
   "metadata": {},
   "outputs": [
    {
     "data": {
      "text/plain": [
       "<re.Match object; span=(0, 12), match='Isaac Newton'>"
      ]
     },
     "execution_count": 12,
     "metadata": {},
     "output_type": "execute_result"
    }
   ],
   "source": [
    "re.match(r\"(\\w+) (\\w+)\", \"Isaac Newton, physicist\")"
   ]
  },
  {
   "cell_type": "code",
   "execution_count": 33,
   "metadata": {},
   "outputs": [
    {
     "name": "stdout",
     "output_type": "stream",
     "text": [
      "False\n"
     ]
    }
   ],
   "source": [
    "print(check)"
   ]
  }
 ],
 "metadata": {
  "kernelspec": {
   "display_name": "Python 3",
   "language": "python",
   "name": "python3"
  },
  "language_info": {
   "codemirror_mode": {
    "name": "ipython",
    "version": 3
   },
   "file_extension": ".py",
   "mimetype": "text/x-python",
   "name": "python",
   "nbconvert_exporter": "python",
   "pygments_lexer": "ipython3",
   "version": "3.11.0"
  }
 },
 "nbformat": 4,
 "nbformat_minor": 2
}
