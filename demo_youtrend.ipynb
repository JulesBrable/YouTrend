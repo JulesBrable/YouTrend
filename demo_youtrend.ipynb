{
 "cells": [
  {
   "cell_type": "code",
   "execution_count": 62,
   "metadata": {},
   "outputs": [],
   "source": [
    "from src.scraper import YouTubeTrending\n",
    "\n",
    "#import importlib\n",
    "#importlib.reload(src.scraper)"
   ]
  },
  {
   "cell_type": "code",
   "execution_count": 60,
   "metadata": {},
   "outputs": [],
   "source": [
    "yt_trending = YouTubeTrending() # or YouTubeTrending(country_code='US') if we want it for the US for example\n",
    "\n",
    "videos, shorts = yt_trending.fetch_trending()"
   ]
  },
  {
   "cell_type": "code",
   "execution_count": 61,
   "metadata": {},
   "outputs": [
    {
     "name": "stdout",
     "output_type": "stream",
     "text": [
      "[[\"QUI EST L'IMPOSTEUR ? (ft Marion Cotillard & Camille Cottin)\", 'https://www.youtube.com/watch?v=xG-Ef4ig07I'], ['LORIS - LES SITES DE RENCONTRES 3', 'https://www.youtube.com/watch?v=hGcjzyKUXSQ'], ['Concours d’anecdotes avec les abonnés : du gros level', 'https://www.youtube.com/watch?v=vcHCMdu3W5M'], ['Sport Billy', 'https://www.youtube.com/watch?v=BbjqJqC9fcM'], ['Le téléchargement illégal cache-il vraiment des virus ?', 'https://www.youtube.com/watch?v=LvnjQQKj11M'], ['Kalash - PROTOCOLE | A COLORS SHOW', 'https://www.youtube.com/watch?v=BUMudeRoTHU'], ['GAZO - CONCERT EN DIRECT DE BERCY (ACCOR HOTELS ARENA)', 'https://www.youtube.com/watch?v=nAPakmEoB_Y'], [\"J'ai tenté d'escalader l'EVEREST ... (Map Fortnite d'Inox)\", 'https://www.youtube.com/watch?v=kcmMniIHcxA'], ['Johnny Hallyday - Un cri (Clip officiel)', 'https://www.youtube.com/watch?v=M800m9PK5eU'], ['Kery James feat Noumouké- Je Peux  [Clip Officiel]', 'https://www.youtube.com/watch?v=IFBB7YyXoy0']]\n",
      "[['L\\'HISTOIRE du MEME \"HENDEK\" ! 👮', 'https://www.youtube.com/watch?v=C_dR5zqTeHU'], [\"L'épopée de Sébastien Loeb vers le Rallye #wrc  #rally #sébastienloeb  #automobile #sportautomobile\", 'https://www.youtube.com/watch?v=pGxmt3zrqj4'], ['Fortnite OG n’est pas le Vrai Chapitre 1..', 'https://www.youtube.com/watch?v=QDh7qKZlFdI'], ['Peugeot 307 mal-en-point au CT 🚘❌ #controletechnique #automobile #voiture #mecanique', 'https://www.youtube.com/watch?v=tlncW1uGEfE'], ['SURVIRAS-TU AU PSYCHOPATHE ?(partie 4)', 'https://www.youtube.com/watch?v=fNYvZQU5A5M'], ['Quand les parents viennent chercher leurs enfants #equitation #lovehorses', 'https://www.youtube.com/watch?v=jdR-443CdVs'], ['Test honnête PlayStation Portal', 'https://www.youtube.com/watch?v=rVrlK9n1HYc'], ['2400kcal le repas ! (Recette de tagliatelles aux saumon)', 'https://www.youtube.com/watch?v=5qVvODck2TU'], ['QUAND SUPER MARIO ARRIVE AU PARADIS 😂', 'https://www.youtube.com/watch?v=ipfQey6UUFM'], ['Unboxing console PlayStation Portal', 'https://www.youtube.com/watch?v=-yAqsCvU6ao']]\n"
     ]
    }
   ],
   "source": [
    "if not (videos or shorts):\n",
    "    print(\"Failed to fetch YouTube trending data.\")\n",
    "else:\n",
    "    res_video = [[video_title, video_id] for video_title, video_id in zip(\n",
    "        [video['title'] for video in videos],\n",
    "        [video['video_link'] for video in videos]\n",
    "        )]\n",
    "    print(res_video[:10])\n",
    "    \n",
    "    res_short = [[short_title, short_id] for short_title, short_id in zip(\n",
    "        [short['title'] for short in shorts],\n",
    "        [short['short_link'] for short in shorts]\n",
    "        )]\n",
    "    print(res_short[:10])"
   ]
  },
  {
   "cell_type": "code",
   "execution_count": null,
   "metadata": {},
   "outputs": [],
   "source": []
  }
 ],
 "metadata": {
  "kernelspec": {
   "display_name": "tf_gpu",
   "language": "python",
   "name": "python3"
  },
  "language_info": {
   "codemirror_mode": {
    "name": "ipython",
    "version": 3
   },
   "file_extension": ".py",
   "mimetype": "text/x-python",
   "name": "python",
   "nbconvert_exporter": "python",
   "pygments_lexer": "ipython3",
   "version": "3.9.16"
  }
 },
 "nbformat": 4,
 "nbformat_minor": 2
}
