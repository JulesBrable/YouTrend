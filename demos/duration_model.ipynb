{
 "cells": [
  {
   "cell_type": "code",
   "execution_count": 1,
   "id": "25516ee5-abb5-4c8b-a312-15cbe9635452",
   "metadata": {},
   "outputs": [],
   "source": [
    "import numpy as np\n",
    "import pandas as pd\n"
   ]
  },
  {
   "cell_type": "code",
   "execution_count": 8,
   "id": "a3d0cef1-5a21-47e9-9433-67405696abc9",
   "metadata": {},
   "outputs": [
    {
     "data": {
      "text/html": [
       "<div>\n",
       "<style scoped>\n",
       "    .dataframe tbody tr th:only-of-type {\n",
       "        vertical-align: middle;\n",
       "    }\n",
       "\n",
       "    .dataframe tbody tr th {\n",
       "        vertical-align: top;\n",
       "    }\n",
       "\n",
       "    .dataframe thead th {\n",
       "        text-align: right;\n",
       "    }\n",
       "</style>\n",
       "<table border=\"1\" class=\"dataframe\">\n",
       "  <thead>\n",
       "    <tr style=\"text-align: right;\">\n",
       "      <th></th>\n",
       "      <th>Unnamed: 0.1</th>\n",
       "      <th>Unnamed: 0</th>\n",
       "      <th>videoId</th>\n",
       "      <th>scanTimestamp</th>\n",
       "      <th>videoExactPublishDate</th>\n",
       "      <th>creatorSubscriberNumber</th>\n",
       "      <th>videoTrendsRanking</th>\n",
       "      <th>videoLengthSeconds</th>\n",
       "      <th>videoType</th>\n",
       "      <th>videoCategory</th>\n",
       "      <th>trendingCountry</th>\n",
       "      <th>exactViewNumber</th>\n",
       "      <th>numberLikes</th>\n",
       "      <th>numberOfComments</th>\n",
       "      <th>isCreatorVerified</th>\n",
       "      <th>videoKeywords</th>\n",
       "      <th>Epoch</th>\n",
       "    </tr>\n",
       "  </thead>\n",
       "  <tbody>\n",
       "    <tr>\n",
       "      <th>0</th>\n",
       "      <td>0</td>\n",
       "      <td>0</td>\n",
       "      <td>bfmUsDJjBkU</td>\n",
       "      <td>1.702948e+09</td>\n",
       "      <td>2023-12-17T02:02:00-08:00</td>\n",
       "      <td>5.79M subscribers</td>\n",
       "      <td>0</td>\n",
       "      <td>4585</td>\n",
       "      <td>Now</td>\n",
       "      <td>Comedy</td>\n",
       "      <td>FR</td>\n",
       "      <td>2,489,981 views</td>\n",
       "      <td>183K</td>\n",
       "      <td>3.1K</td>\n",
       "      <td>True</td>\n",
       "      <td>['Mastu', 'Mastus', 'Humour', 'Matsu', 'loat',...</td>\n",
       "      <td>1</td>\n",
       "    </tr>\n",
       "    <tr>\n",
       "      <th>1</th>\n",
       "      <td>1</td>\n",
       "      <td>1</td>\n",
       "      <td>9gAADPMt1FU</td>\n",
       "      <td>1.702948e+09</td>\n",
       "      <td>2023-12-17T10:28:05-08:00</td>\n",
       "      <td>724K subscribers</td>\n",
       "      <td>1</td>\n",
       "      <td>1056</td>\n",
       "      <td>Now</td>\n",
       "      <td>Comedy</td>\n",
       "      <td>FR</td>\n",
       "      <td>325,905 views</td>\n",
       "      <td>57K</td>\n",
       "      <td>1.2K</td>\n",
       "      <td>True</td>\n",
       "      <td>NaN</td>\n",
       "      <td>1</td>\n",
       "    </tr>\n",
       "    <tr>\n",
       "      <th>2</th>\n",
       "      <td>2</td>\n",
       "      <td>2</td>\n",
       "      <td>LnW-DwBrWLk</td>\n",
       "      <td>1.702948e+09</td>\n",
       "      <td>2023-12-17T07:59:59-08:00</td>\n",
       "      <td>4M subscribers</td>\n",
       "      <td>0</td>\n",
       "      <td>827</td>\n",
       "      <td>Now</td>\n",
       "      <td>Comedy</td>\n",
       "      <td>FR</td>\n",
       "      <td>492,696 views</td>\n",
       "      <td>39K</td>\n",
       "      <td>563</td>\n",
       "      <td>True</td>\n",
       "      <td>NaN</td>\n",
       "      <td>1</td>\n",
       "    </tr>\n",
       "  </tbody>\n",
       "</table>\n",
       "</div>"
      ],
      "text/plain": [
       "   Unnamed: 0.1  Unnamed: 0      videoId  scanTimestamp  \\\n",
       "0             0           0  bfmUsDJjBkU   1.702948e+09   \n",
       "1             1           1  9gAADPMt1FU   1.702948e+09   \n",
       "2             2           2  LnW-DwBrWLk   1.702948e+09   \n",
       "\n",
       "       videoExactPublishDate creatorSubscriberNumber  videoTrendsRanking  \\\n",
       "0  2023-12-17T02:02:00-08:00       5.79M subscribers                   0   \n",
       "1  2023-12-17T10:28:05-08:00        724K subscribers                   1   \n",
       "2  2023-12-17T07:59:59-08:00          4M subscribers                   0   \n",
       "\n",
       "   videoLengthSeconds videoType videoCategory trendingCountry  \\\n",
       "0                4585       Now        Comedy              FR   \n",
       "1                1056       Now        Comedy              FR   \n",
       "2                 827       Now        Comedy              FR   \n",
       "\n",
       "   exactViewNumber numberLikes numberOfComments  isCreatorVerified  \\\n",
       "0  2,489,981 views        183K             3.1K               True   \n",
       "1    325,905 views         57K             1.2K               True   \n",
       "2    492,696 views         39K              563               True   \n",
       "\n",
       "                                       videoKeywords  Epoch  \n",
       "0  ['Mastu', 'Mastus', 'Humour', 'Matsu', 'loat',...      1  \n",
       "1                                                NaN      1  \n",
       "2                                                NaN      1  "
      ]
     },
     "execution_count": 8,
     "metadata": {},
     "output_type": "execute_result"
    }
   ],
   "source": [
    "dataset_fr=pd.read_csv(\"Poling_dataset.csv\")\n",
    "dataset_fr.head(3)"
   ]
  },
  {
   "cell_type": "code",
   "execution_count": 9,
   "id": "d73f07bc-0314-4e37-9a38-7461f8f3e703",
   "metadata": {},
   "outputs": [
    {
     "name": "stdout",
     "output_type": "stream",
     "text": [
      "<class 'pandas.core.frame.DataFrame'>\n",
      "RangeIndex: 785 entries, 0 to 784\n",
      "Data columns (total 17 columns):\n",
      " #   Column                   Non-Null Count  Dtype  \n",
      "---  ------                   --------------  -----  \n",
      " 0   Unnamed: 0.1             785 non-null    int64  \n",
      " 1   Unnamed: 0               785 non-null    int64  \n",
      " 2   videoId                  785 non-null    object \n",
      " 3   scanTimestamp            785 non-null    float64\n",
      " 4   videoExactPublishDate    785 non-null    object \n",
      " 5   creatorSubscriberNumber  785 non-null    object \n",
      " 6   videoTrendsRanking       785 non-null    int64  \n",
      " 7   videoLengthSeconds       785 non-null    int64  \n",
      " 8   videoType                785 non-null    object \n",
      " 9   videoCategory            785 non-null    object \n",
      " 10  trendingCountry          785 non-null    object \n",
      " 11  exactViewNumber          785 non-null    object \n",
      " 12  numberLikes              785 non-null    object \n",
      " 13  numberOfComments         778 non-null    object \n",
      " 14  isCreatorVerified        785 non-null    bool   \n",
      " 15  videoKeywords            530 non-null    object \n",
      " 16  Epoch                    785 non-null    int64  \n",
      "dtypes: bool(1), float64(1), int64(5), object(10)\n",
      "memory usage: 99.0+ KB\n"
     ]
    }
   ],
   "source": [
    "dataset_fr.info()"
   ]
  },
  {
   "cell_type": "code",
   "execution_count": 10,
   "id": "193982e6-f5b3-4f30-8ec7-c3e0b806ec1f",
   "metadata": {},
   "outputs": [
    {
     "data": {
      "text/plain": [
       "(785, 17)"
      ]
     },
     "execution_count": 10,
     "metadata": {},
     "output_type": "execute_result"
    }
   ],
   "source": [
    "dataset_fr.shape"
   ]
  },
  {
   "cell_type": "code",
   "execution_count": 11,
   "id": "cd30e3a6-00b3-4c1b-8bcb-f8c963bf34f9",
   "metadata": {},
   "outputs": [
    {
     "data": {
      "text/plain": [
       "(785, 98)"
      ]
     },
     "execution_count": 11,
     "metadata": {},
     "output_type": "execute_result"
    }
   ],
   "source": [
    "dataset_fr.shape[0],len(dataset_fr.videoId.unique())\n",
    "#ça ne sent pas bon, car le nombre de vidéo unique est proche du nombre de video collecté a chaque époque"
   ]
  },
  {
   "cell_type": "code",
   "execution_count": 12,
   "id": "6edf257b-ae43-472d-875c-700e92108865",
   "metadata": {},
   "outputs": [],
   "source": [
    "#dataset_fr=pd.read_csv(\"french_youtube_10_12_23.csv\")\n",
    "#dataset_fr.head(1)"
   ]
  },
  {
   "cell_type": "code",
   "execution_count": 16,
   "id": "76608454-9b31-425c-ad87-a666804d9961",
   "metadata": {},
   "outputs": [
    {
     "data": {
      "text/plain": [
       "(113, 17)"
      ]
     },
     "execution_count": 16,
     "metadata": {},
     "output_type": "execute_result"
    }
   ],
   "source": [
    "df1=dataset_fr[dataset_fr['Epoch']==1]\n",
    "df1.shape"
   ]
  },
  {
   "cell_type": "code",
   "execution_count": 18,
   "id": "dc610af4-7c02-4e06-acc4-85e42595a7a2",
   "metadata": {},
   "outputs": [
    {
     "data": {
      "text/plain": [
       "Index(['Unnamed: 0.1', 'Unnamed: 0', 'videoId', 'scanTimestamp',\n",
       "       'videoExactPublishDate', 'creatorSubscriberNumber',\n",
       "       'videoTrendsRanking', 'videoLengthSeconds', 'videoType',\n",
       "       'videoCategory', 'trendingCountry', 'exactViewNumber', 'numberLikes',\n",
       "       'numberOfComments', 'isCreatorVerified', 'videoKeywords', 'Epoch'],\n",
       "      dtype='object')"
      ]
     },
     "execution_count": 18,
     "metadata": {},
     "output_type": "execute_result"
    }
   ],
   "source": [
    "dataset_fr.columns"
   ]
  },
  {
   "cell_type": "code",
   "execution_count": 39,
   "id": "e4d1e98e-5240-4191-aefd-3e940f573111",
   "metadata": {},
   "outputs": [],
   "source": [
    "#cette fonction retourne pour chaque ,dans le dataset complet privé du dataset de la 1ére coolecte,la ligne correspondant à la premiére occurence de la vidéo\n",
    "#premiére en terme de collecte des donnée\n",
    "def df_fist_occur(pooling_date):\n",
    "    df=pooling_date.groupby(['videoId']).min()\n",
    "    df=df[df.Epoch>1]\n",
    "    return df"
   ]
  },
  {
   "cell_type": "code",
   "execution_count": 40,
   "id": "6898d7c0-bcf7-4e64-a3ed-91ea4747d076",
   "metadata": {},
   "outputs": [],
   "source": [
    "#cette fonction retourner l'ensemble des vidéo collecté à la aux derniéres scapping mais qui n'ont pas été collecté lors dl 1 ére scapping\n",
    "def last_against_first(pooling_date):\n",
    "     n_scan=len(pooling_date.Epoch.unique())\n",
    "     liste_Idvideo_dataset_0=list(pooling_date[pooling_date['Epoch']==1].videoId.values)\n",
    "     return pooling_date[((pooling_date['Epoch']==n_scan) ) & ~pooling_date['videoId'].isin(liste_Idvideo_dataset_0)]\n",
    "\n"
   ]
  },
  {
   "cell_type": "code",
   "execution_count": 41,
   "id": "d8f60868-323a-477e-9f5b-1e25e590435b",
   "metadata": {},
   "outputs": [
    {
     "data": {
      "text/html": [
       "<div>\n",
       "<style scoped>\n",
       "    .dataframe tbody tr th:only-of-type {\n",
       "        vertical-align: middle;\n",
       "    }\n",
       "\n",
       "    .dataframe tbody tr th {\n",
       "        vertical-align: top;\n",
       "    }\n",
       "\n",
       "    .dataframe thead th {\n",
       "        text-align: right;\n",
       "    }\n",
       "</style>\n",
       "<table border=\"1\" class=\"dataframe\">\n",
       "  <thead>\n",
       "    <tr style=\"text-align: right;\">\n",
       "      <th></th>\n",
       "      <th>Unnamed: 0.1</th>\n",
       "      <th>Unnamed: 0</th>\n",
       "      <th>videoId</th>\n",
       "      <th>scanTimestamp</th>\n",
       "      <th>videoExactPublishDate</th>\n",
       "      <th>creatorSubscriberNumber</th>\n",
       "      <th>videoTrendsRanking</th>\n",
       "      <th>videoLengthSeconds</th>\n",
       "      <th>videoType</th>\n",
       "      <th>videoCategory</th>\n",
       "      <th>trendingCountry</th>\n",
       "      <th>exactViewNumber</th>\n",
       "      <th>numberLikes</th>\n",
       "      <th>numberOfComments</th>\n",
       "      <th>isCreatorVerified</th>\n",
       "      <th>videoKeywords</th>\n",
       "      <th>Epoch</th>\n",
       "    </tr>\n",
       "  </thead>\n",
       "  <tbody>\n",
       "    <tr>\n",
       "      <th>784</th>\n",
       "      <td>111</td>\n",
       "      <td>111</td>\n",
       "      <td>_6YR8xmqEFw</td>\n",
       "      <td>1.702971e+09</td>\n",
       "      <td>2023-12-17T04:30:10-08:00</td>\n",
       "      <td>78.7K subscribers</td>\n",
       "      <td>14</td>\n",
       "      <td>48</td>\n",
       "      <td>Short</td>\n",
       "      <td>Sports</td>\n",
       "      <td>FR</td>\n",
       "      <td>118,273 views</td>\n",
       "      <td>5.2K</td>\n",
       "      <td>24</td>\n",
       "      <td>False</td>\n",
       "      <td>NaN</td>\n",
       "      <td>7</td>\n",
       "    </tr>\n",
       "  </tbody>\n",
       "</table>\n",
       "</div>"
      ],
      "text/plain": [
       "     Unnamed: 0.1  Unnamed: 0      videoId  scanTimestamp  \\\n",
       "784           111         111  _6YR8xmqEFw   1.702971e+09   \n",
       "\n",
       "         videoExactPublishDate creatorSubscriberNumber  videoTrendsRanking  \\\n",
       "784  2023-12-17T04:30:10-08:00       78.7K subscribers                  14   \n",
       "\n",
       "     videoLengthSeconds videoType videoCategory trendingCountry  \\\n",
       "784                  48     Short        Sports              FR   \n",
       "\n",
       "    exactViewNumber numberLikes numberOfComments  isCreatorVerified  \\\n",
       "784   118,273 views        5.2K               24              False   \n",
       "\n",
       "    videoKeywords  Epoch  \n",
       "784           NaN      7  "
      ]
     },
     "execution_count": 41,
     "metadata": {},
     "output_type": "execute_result"
    }
   ],
   "source": [
    "last_against_first(datset_fr)"
   ]
  },
  {
   "cell_type": "code",
   "execution_count": 45,
   "id": "523923b6-9e14-4dee-9d1f-082ac355e547",
   "metadata": {},
   "outputs": [],
   "source": [
    "def work_dataset(pooling_date):\n",
    "    return last_against_first(pooling_date).merge( df_fist_occur(pooling_date),how='inner',on='videoId')\n",
    "\n",
    "#sample_after_filter.merge(sample_group,how='inner',on='id')"
   ]
  },
  {
   "cell_type": "code",
   "execution_count": 46,
   "id": "a47928d8-faea-4442-ad7d-6811ef216950",
   "metadata": {},
   "outputs": [
    {
     "data": {
      "text/html": [
       "<div>\n",
       "<style scoped>\n",
       "    .dataframe tbody tr th:only-of-type {\n",
       "        vertical-align: middle;\n",
       "    }\n",
       "\n",
       "    .dataframe tbody tr th {\n",
       "        vertical-align: top;\n",
       "    }\n",
       "\n",
       "    .dataframe thead th {\n",
       "        text-align: right;\n",
       "    }\n",
       "</style>\n",
       "<table border=\"1\" class=\"dataframe\">\n",
       "  <thead>\n",
       "    <tr style=\"text-align: right;\">\n",
       "      <th></th>\n",
       "      <th>Unnamed: 0.1_x</th>\n",
       "      <th>Unnamed: 0_x</th>\n",
       "      <th>videoId</th>\n",
       "      <th>scanTimestamp_x</th>\n",
       "      <th>videoExactPublishDate_x</th>\n",
       "      <th>creatorSubscriberNumber_x</th>\n",
       "      <th>videoTrendsRanking_x</th>\n",
       "      <th>videoLengthSeconds_x</th>\n",
       "      <th>videoType_x</th>\n",
       "      <th>videoCategory_x</th>\n",
       "      <th>...</th>\n",
       "      <th>videoLengthSeconds_y</th>\n",
       "      <th>videoType_y</th>\n",
       "      <th>videoCategory_y</th>\n",
       "      <th>trendingCountry_y</th>\n",
       "      <th>exactViewNumber_y</th>\n",
       "      <th>numberLikes_y</th>\n",
       "      <th>numberOfComments_y</th>\n",
       "      <th>isCreatorVerified_y</th>\n",
       "      <th>videoKeywords_y</th>\n",
       "      <th>Epoch_y</th>\n",
       "    </tr>\n",
       "  </thead>\n",
       "  <tbody>\n",
       "    <tr>\n",
       "      <th>0</th>\n",
       "      <td>111</td>\n",
       "      <td>111</td>\n",
       "      <td>_6YR8xmqEFw</td>\n",
       "      <td>1.702971e+09</td>\n",
       "      <td>2023-12-17T04:30:10-08:00</td>\n",
       "      <td>78.7K subscribers</td>\n",
       "      <td>14</td>\n",
       "      <td>48</td>\n",
       "      <td>Short</td>\n",
       "      <td>Sports</td>\n",
       "      <td>...</td>\n",
       "      <td>48</td>\n",
       "      <td>Short</td>\n",
       "      <td>Sports</td>\n",
       "      <td>FR</td>\n",
       "      <td>117,936 views</td>\n",
       "      <td>5.1K</td>\n",
       "      <td>24</td>\n",
       "      <td>False</td>\n",
       "      <td>NaN</td>\n",
       "      <td>6</td>\n",
       "    </tr>\n",
       "  </tbody>\n",
       "</table>\n",
       "<p>1 rows × 33 columns</p>\n",
       "</div>"
      ],
      "text/plain": [
       "   Unnamed: 0.1_x  Unnamed: 0_x      videoId  scanTimestamp_x  \\\n",
       "0             111           111  _6YR8xmqEFw     1.702971e+09   \n",
       "\n",
       "     videoExactPublishDate_x creatorSubscriberNumber_x  videoTrendsRanking_x  \\\n",
       "0  2023-12-17T04:30:10-08:00         78.7K subscribers                    14   \n",
       "\n",
       "   videoLengthSeconds_x videoType_x videoCategory_x  ... videoLengthSeconds_y  \\\n",
       "0                    48       Short          Sports  ...                   48   \n",
       "\n",
       "  videoType_y videoCategory_y trendingCountry_y  exactViewNumber_y  \\\n",
       "0       Short          Sports                FR      117,936 views   \n",
       "\n",
       "  numberLikes_y  numberOfComments_y  isCreatorVerified_y  videoKeywords_y  \\\n",
       "0          5.1K                  24                False              NaN   \n",
       "\n",
       "   Epoch_y  \n",
       "0        6  \n",
       "\n",
       "[1 rows x 33 columns]"
      ]
     },
     "execution_count": 46,
     "metadata": {},
     "output_type": "execute_result"
    }
   ],
   "source": [
    "work_dataset(dataset_fr)"
   ]
  },
  {
   "cell_type": "code",
   "execution_count": null,
   "id": "f04dfbc9-305a-48da-a80c-ad93b8f45e5a",
   "metadata": {},
   "outputs": [],
   "source": []
  },
  {
   "cell_type": "code",
   "execution_count": null,
   "id": "bb1cf227-a7bc-43f9-bc3d-5802221429cc",
   "metadata": {},
   "outputs": [],
   "source": []
  },
  {
   "cell_type": "code",
   "execution_count": null,
   "id": "f0b9565c-5891-44b0-8b46-6c7e6e4c8789",
   "metadata": {},
   "outputs": [],
   "source": []
  }
 ],
 "metadata": {
  "kernelspec": {
   "display_name": "Python 3 (ipykernel)",
   "language": "python",
   "name": "python3"
  },
  "language_info": {
   "codemirror_mode": {
    "name": "ipython",
    "version": 3
   },
   "file_extension": ".py",
   "mimetype": "text/x-python",
   "name": "python",
   "nbconvert_exporter": "python",
   "pygments_lexer": "ipython3",
   "version": "3.10.13"
  }
 },
 "nbformat": 4,
 "nbformat_minor": 5
}
