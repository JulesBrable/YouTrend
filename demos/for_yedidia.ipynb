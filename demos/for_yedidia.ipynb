{
 "cells": [
  {
   "cell_type": "code",
   "execution_count": 1,
   "metadata": {},
   "outputs": [],
   "source": [
    "import requests\n",
    "import time \n",
    "import numpy as np\n",
    "import pandas as pd\n",
    "import copy"
   ]
  },
  {
   "cell_type": "code",
   "execution_count": null,
   "metadata": {},
   "outputs": [],
   "source": [
    "def collect_data(video_id):\n",
    "    video_dictionary = {}\n",
    "    json_data = {\n",
    "        'context': {\n",
    "            'client': {\n",
    "                'clientName': 'WEB',\n",
    "                'clientVersion': '2.20231208.01.00',            \n",
    "                }\n",
    "        },\n",
    "        'videoId': video_id,\n",
    "    } # collect for post-identification of the latter (not the former!)\n",
    "    first_response = requests.post('https://www.youtube.com/youtubei/v1/next', json=json_data)\n",
    "    second_response = requests.post('https://www.youtube.com/youtubei/v1/player', json=json_data)\n",
    "    video_response = first_response.json()\n",
    "    meta_response = second_response.json()\n",
    "    individual_video_data = video_response[\"contents\"][\"twoColumnWatchNextResults\"][\"results\"][\"results\"][\"contents\"]\n",
    "    video_dictionary[\"videoId\"] = video_id\n",
    "    video_dictionary[\"exactViewNumber\"] = individual_video_data[0][\"videoPrimaryInfoRenderer\"][\"viewCount\"][\"videoViewCountRenderer\"][\"viewCount\"][\"simpleText\"]\n",
    "    video_dictionary[\"numberLikes\"] = individual_video_data[0][\"videoPrimaryInfoRenderer\"][\"videoActions\"][\"menuRenderer\"][\"topLevelButtons\"][0][\"segmentedLikeDislikeButtonViewModel\"][\"likeButtonViewModel\"][\"likeButtonViewModel\"][\"toggleButtonViewModel\"][\"toggleButtonViewModel\"][\"defaultButtonViewModel\"][\"buttonViewModel\"][\"title\"]\n",
    "    video_dictionary[\"creatorSubscriberNumber\"] = individual_video_data[1][\"videoSecondaryInfoRenderer\"][\"owner\"][\"videoOwnerRenderer\"][\"subscriberCountText\"][\"simpleText\"]\n",
    "    try:    \n",
    "        video_dictionary[\"numberOfComments\"] = individual_video_data[2][\"itemSectionRenderer\"][\"contents\"][0][\"commentsEntryPointHeaderRenderer\"][\"commentCount\"][\"simpleText\"]\n",
    "    except KeyError: # correct for additional \"merchandise\" section\n",
    "        try:\n",
    "            video_dictionary[\"numberOfComments\"] = individual_video_data[3][\"itemSectionRenderer\"][\"contents\"][0][\"commentsEntryPointHeaderRenderer\"][\"commentCount\"][\"simpleText\"]\n",
    "        except IndexError: # comments are turned off\n",
    "            video_dictionary[\"numberOfComments\"] = np.nan\n",
    "    try:\n",
    "        video_dictionary[\"isCreatorVerified\"] = (individual_video_data[1][\"videoSecondaryInfoRenderer\"][\"owner\"][\"videoOwnerRenderer\"][\"badges\"][0][\"metadataBadgeRenderer\"][\"tooltip\"] == \"Verified\")\n",
    "    except KeyError:\n",
    "        video_dictionary[\"isCreatorVerified\"] = False\n",
    "    try:\n",
    "        video_dictionary[\"videoKeywords\"] = meta_response[\"videoDetails\"][\"keywords\"]\n",
    "    except KeyError: # no keywords\n",
    "        video_dictionary[\"videoKeywords\"] = np.nan\n",
    "    video_dictionary[\"videoLengthSeconds\"] = meta_response[\"videoDetails\"][\"lengthSeconds\"]\n",
    "    video_dictionary[\"videoCategory\"] = meta_response[\"microformat\"][\"playerMicroformatRenderer\"][\"category\"]\n",
    "    video_dictionary[\"videoExactPublishDate\"] = meta_response[\"microformat\"][\"playerMicroformatRenderer\"][\"uploadDate\"]\n",
    "    return None\n"
   ]
  }
 ],
 "metadata": {
  "kernelspec": {
   "display_name": "Python 3",
   "language": "python",
   "name": "python3"
  },
  "language_info": {
   "codemirror_mode": {
    "name": "ipython",
    "version": 3
   },
   "file_extension": ".py",
   "mimetype": "text/x-python",
   "name": "python",
   "nbconvert_exporter": "python",
   "pygments_lexer": "ipython3",
   "version": "3.10.12"
  },
  "orig_nbformat": 4
 },
 "nbformat": 4,
 "nbformat_minor": 2
}
