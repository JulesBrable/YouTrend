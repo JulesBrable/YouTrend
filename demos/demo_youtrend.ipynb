{
 "cells": [
  {
   "cell_type": "code",
   "execution_count": 2,
   "metadata": {},
   "outputs": [],
   "source": [
    "# can direcly access module by their name without having to specify \"src.\" \n",
    "from etl.scraper import YouTubeTrending\n",
    "\n",
    "#import importlib\n",
    "#importlib.reload(src.scraper)"
   ]
  },
  {
   "cell_type": "code",
   "execution_count": 3,
   "metadata": {},
   "outputs": [],
   "source": [
    "yt_trending = YouTubeTrending() # or YouTubeTrending(country_code='US') if we want it for the US for example\n",
    "\n",
    "videos, shorts = yt_trending.fetch_trending()"
   ]
  },
  {
   "cell_type": "code",
   "execution_count": 4,
   "metadata": {},
   "outputs": [
    {
     "name": "stdout",
     "output_type": "stream",
     "text": [
      "[['FINALE  de la Coupe de France Fortnite ! 200 000€ de Cashprize', 'https://www.youtube.com/watch?v=C1dxYz3qAwE'], ['Les voix de dessins animés cultes nous font un blindtest génial 3 (ft Mastu et Joyca)', 'https://www.youtube.com/watch?v=qi9xSXJKRIc'], ['JuL - Sensations // Clip officiel // 2023', 'https://www.youtube.com/watch?v=ZQ9xvDuQh4s'], ['Je rénove ma tour! La chambre est prête! :D', 'https://www.youtube.com/watch?v=o0A-DTDVhhQ'], ['RÉSUMÉ DE MON MOIS DE NOVEMBRE !', 'https://www.youtube.com/watch?v=E-WkcNPpVS0'], [\"J'AI OFFERT UN CADEAU À NEYMAR ( FT. YASSINE BOUNOU )\", 'https://www.youtube.com/watch?v=PMntkgC5xlI'], ['La FOLLE HISTOIRE de COLORS !', 'https://www.youtube.com/watch?v=MiK3ymWHs6c'], ['Cauchemar En Cuisine: Du Succès Aux Scandales', 'https://www.youtube.com/watch?v=Rn_ZKVIr8Vg'], ['Je Teste Les Recettes Les Plus Difficiles !', 'https://www.youtube.com/watch?v=JBCQYgtx0S8'], ['Another World - Rétro Découverte', 'https://www.youtube.com/watch?v=5SIYiBswyI4']]\n",
      "[['Quelle est la première bouchée à prendre ?', 'https://www.youtube.com/watch?v=LBF95yLi5hA'], [\"CES PROFESSEURS PENDANT L'ALARME INCENDIE 😐🔥\", 'https://www.youtube.com/watch?v=gXo76LmoVo4'], ['J’ACHÈTE (encore) DES EFFETS SPÉCIAUX DE CINÉMA 😱', 'https://www.youtube.com/watch?v=Gm8e42QyJqA'], ['🍕🌮💡 Tortilla Pizza : Fusion Gourmande entre Pizza et Wrap ! 🤤 Réaction Mr Wendy Shorts', 'https://www.youtube.com/watch?v=YKaGWDrNi7g'], ['Le Rat à Black Friday 😱', 'https://www.youtube.com/watch?v=f1r9lWTzolA'], ['Le classico CM1 VS CM2😂🧑\\u200d🏫', 'https://www.youtube.com/watch?v=hRrZPHAtiuo'], ['Le piège parfait😱 #waynestv #drole #sketch #divertissement #rire #humour', 'https://www.youtube.com/watch?v=7ZMqiJKjI-0'], ['Le seul défaut de Mbappé ?', 'https://www.youtube.com/watch?v=ZqIyR_cQ20E'], ['EXCLURE QUELQU’UN, CA TOURNE MAL ! [PARTIE 1]', 'https://www.youtube.com/watch?v=DQd4QK_ej9A'], ['Vous pouvez envoyer et recevoir des objets #acting', 'https://www.youtube.com/watch?v=TQhZWVlrUPE']]\n"
     ]
    }
   ],
   "source": [
    "if not (videos or shorts):\n",
    "    print(\"Failed to fetch YouTube trending data.\")\n",
    "else:\n",
    "    res_video = [[video_title, video_id] for video_title, video_id in zip(\n",
    "        [video['title'] for video in videos],\n",
    "        [video['video_link'] for video in videos]\n",
    "        )]\n",
    "    print(res_video[:10])\n",
    "    \n",
    "    res_short = [[short_title, short_id] for short_title, short_id in zip(\n",
    "        [short['title'] for short in shorts],\n",
    "        [short['short_link'] for short in shorts]\n",
    "        )]\n",
    "    print(res_short[:10])"
   ]
  },
  {
   "cell_type": "code",
   "execution_count": null,
   "metadata": {},
   "outputs": [],
   "source": []
  }
 ],
 "metadata": {
  "kernelspec": {
   "display_name": "base",
   "language": "python",
   "name": "python3"
  },
  "language_info": {
   "codemirror_mode": {
    "name": "ipython",
    "version": 3
   },
   "file_extension": ".py",
   "mimetype": "text/x-python",
   "name": "python",
   "nbconvert_exporter": "python",
   "pygments_lexer": "ipython3",
   "version": "3.10.13"
  }
 },
 "nbformat": 4,
 "nbformat_minor": 2
}
