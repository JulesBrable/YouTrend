{
 "cells": [
  {
   "cell_type": "code",
   "execution_count": 1,
   "metadata": {},
   "outputs": [],
   "source": [
    "from etl.scraper import YouTubeTrending "
   ]
  },
  {
   "cell_type": "code",
   "execution_count": 2,
   "metadata": {},
   "outputs": [],
   "source": [
    "yt_trending = YouTubeTrending() # or YouTubeTrending(country_code='US') if we want it for the US for example"
   ]
  },
  {
   "cell_type": "code",
   "execution_count": 3,
   "metadata": {},
   "outputs": [],
   "source": [
    "videos, shorts = yt_trending.fetch_trending()"
   ]
  },
  {
   "cell_type": "code",
   "execution_count": 4,
   "metadata": {},
   "outputs": [
    {
     "name": "stdout",
     "output_type": "stream",
     "text": [
      "[['Survivre sur une ile déserte (GTA RP ! # 1)', 'https://www.youtube.com/watch?v=r7Bnj7--cUY'], ['VOS PIRES CADEAUX DE NOËL #5', 'https://www.youtube.com/watch?v=cWWqr5ypRm4'], ['PAR OÙ COMMENCER ? (Batiment à 1 million)', 'https://www.youtube.com/watch?v=yWq4VArkd_8'], ['Rebondissement dans l’affaire Epstein qui secoue le monde entier', 'https://www.youtube.com/watch?v=fTSuxn1jQkY'], ['À Las Vegas, une juge agressée en plein tribunal par un prévenu qu’elle s’apprêtait à condamner', 'https://www.youtube.com/watch?v=HZAWQ97dTBE'], ['DANS 5 ANS : OuiLove, le consentement 2.0 (avec Hakim Jemili, Laura Felpin et Roman Frayssinet)', 'https://www.youtube.com/watch?v=ebnDQr7JywI'], ['Poser un lapin, avoir un nom à coucher dehors, faire une nuit blanche…- Les expressions anciennes', 'https://www.youtube.com/watch?v=de6X9uwpKYM'], ['Highlights / PSG - Toulouse FC / Trophée des champions 2023', 'https://www.youtube.com/watch?v=z4YkJFU1pls'], ['Les PIRES ERREURS de POKÉMON TRASH ❌', 'https://www.youtube.com/watch?v=D37b4PYN_EM'], ['🔴🔵 PSG - TOULOUSE LIVE / 🔥ALLEZ PARIS! /🚨ENFIN LE RETOUR DU PSG! / FINALE TROPHEE DES CHAMPIONS', 'https://www.youtube.com/watch?v=qLC58VZY5uQ']]\n",
      "[['Que pense Squeezie de Cyprien ? @francetv', 'https://www.youtube.com/watch?v=yGk4Z-j1DMA'], ['#pov : [Partie 1] Les enfants rois 👑  #acting #cinematic #cinematography #prevention', 'https://www.youtube.com/watch?v=3nZ2c6Y4ZyQ'], [\"Ces poissons qui vivent hors de l'eau\", 'https://www.youtube.com/watch?v=6OjTZnF9vN8'], [\"C'EST UN COMPLIMENT ? - LAURA LAUNE\", 'https://www.youtube.com/watch?v=R6e_1syZiwQ'], ['Le plus éloigné de moi gagne 500€ 😱', 'https://www.youtube.com/watch?v=vkqRYCftI6w'], ['Je refais @Amixem en #LEGO !', 'https://www.youtube.com/watch?v=9ymiXwFb2RM'], [\"J'agis avec Kendji\", 'https://www.youtube.com/watch?v=GaH3z69v8H0'], ['Un peu street aujourd’hui chez Chicken place, vous avez reconnu qui ?', 'https://www.youtube.com/watch?v=m2by4VhZXy0'], ['La fin c’est pour le projet UFC 😂 #manda #couple', 'https://www.youtube.com/watch?v=3l57bH2KBBE'], ['Ballon en béton !! 😱 #challenge #satisfying', 'https://www.youtube.com/watch?v=WaSc3JfiLPA']]\n"
     ]
    }
   ],
   "source": [
    "if not (videos or shorts):\n",
    "    print(\"Failed to fetch YouTube trending data.\")\n",
    "else:\n",
    "    res_video = [[video_title, video_id] for video_title, video_id in zip(\n",
    "        [video['title'] for video in videos],\n",
    "        [video['video_link'] for video in videos]\n",
    "        )]\n",
    "    print(res_video[:10])\n",
    "    \n",
    "    res_short = [[short_title, short_id] for short_title, short_id in zip(\n",
    "        [short['title'] for short in shorts],\n",
    "        [short['short_link'] for short in shorts]\n",
    "        )]\n",
    "    print(res_short[:10])"
   ]
  }
 ],
 "metadata": {
  "kernelspec": {
   "display_name": "Python 3",
   "language": "python",
   "name": "python3"
  },
  "language_info": {
   "codemirror_mode": {
    "name": "ipython",
    "version": 3
   },
   "file_extension": ".py",
   "mimetype": "text/x-python",
   "name": "python",
   "nbconvert_exporter": "python",
   "pygments_lexer": "ipython3",
   "version": "3.10.12"
  },
  "orig_nbformat": 4
 },
 "nbformat": 4,
 "nbformat_minor": 2
}
